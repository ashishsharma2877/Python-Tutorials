{
 "cells": [
  {
   "cell_type": "markdown",
   "metadata": {},
   "source": [
    "# Introduction to Jupyter notebooks\n",
    "\n",
    "You can use notebooks to write and run Python code. It is good for documenting workflows, especially for data science.\n",
    "\n",
    "## What is a notebook?\n",
    "It's a file that contains formatted text and code. You can alternate code blocks and text blocks and read them from top to bottom.\n",
    "\n",
    "## Why would I use this?\n",
    "### Document your process\n",
    "- All of your code can live in one file, but steps can be broken up into separate code blocks (instead of one big pile of spaghetti code). \n",
    "- Since it supports formatted text (in Markdown), it is easy to describe the why's and not just the how's.\n",
    "- Seeing the results of code inline means you don't have to pepper print statements to describe what step of results you're looking at.\n",
    "\n",
    "### Sharing is caring\n",
    "- You can send your notebook files to a fellow data enthusiasts.\n",
    "- They can run your code and understand your methods, reproduce your results, or repurpose your code for their own analysis."
   ]
  },
  {
   "cell_type": "markdown",
   "metadata": {},
   "source": [
    "## Example analysis\n",
    "We'll be looking at a CSV dataset of people who tip at restaurants. The source data can be found in `tips.csv`"
   ]
  },
  {
   "cell_type": "code",
   "execution_count": null,
   "metadata": {},
   "outputs": [],
   "source": []
  }
 ],
 "metadata": {
  "kernelspec": {
   "display_name": "Python 3",
   "language": "python",
   "name": "python3"
  },
  "language_info": {
   "codemirror_mode": {
    "name": "ipython",
    "version": 3
   },
   "file_extension": ".py",
   "mimetype": "text/x-python",
   "name": "python",
   "nbconvert_exporter": "python",
   "pygments_lexer": "ipython3",
   "version": "3.7.1"
  }
 },
 "nbformat": 4,
 "nbformat_minor": 2
}
